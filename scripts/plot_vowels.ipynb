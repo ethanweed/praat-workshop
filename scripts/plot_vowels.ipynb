{
 "cells": [
  {
   "cell_type": "code",
   "execution_count": 6,
   "metadata": {},
   "outputs": [],
   "source": [
    "import pandas as pd\n",
    "import seaborn as sns\n",
    "import matplotlib.pyplot as plt"
   ]
  },
  {
   "cell_type": "code",
   "execution_count": 18,
   "metadata": {},
   "outputs": [
    {
     "data": {
      "text/html": [
       "<div>\n",
       "<style scoped>\n",
       "    .dataframe tbody tr th:only-of-type {\n",
       "        vertical-align: middle;\n",
       "    }\n",
       "\n",
       "    .dataframe tbody tr th {\n",
       "        vertical-align: top;\n",
       "    }\n",
       "\n",
       "    .dataframe thead th {\n",
       "        text-align: right;\n",
       "    }\n",
       "</style>\n",
       "<table border=\"1\" class=\"dataframe\">\n",
       "  <thead>\n",
       "    <tr style=\"text-align: right;\">\n",
       "      <th></th>\n",
       "      <th>vowel</th>\n",
       "      <th>F1</th>\n",
       "      <th>F2</th>\n",
       "      <th>F3</th>\n",
       "    </tr>\n",
       "  </thead>\n",
       "  <tbody>\n",
       "    <tr>\n",
       "      <th>0</th>\n",
       "      <td>vowels1.wav</td>\n",
       "      <td>350.801919</td>\n",
       "      <td>2392.458027</td>\n",
       "      <td>3176.248282</td>\n",
       "    </tr>\n",
       "    <tr>\n",
       "      <th>1</th>\n",
       "      <td>vowels2.wav</td>\n",
       "      <td>414.043567</td>\n",
       "      <td>2326.744712</td>\n",
       "      <td>2789.926437</td>\n",
       "    </tr>\n",
       "    <tr>\n",
       "      <th>2</th>\n",
       "      <td>vowels3.wav</td>\n",
       "      <td>695.099485</td>\n",
       "      <td>1947.917695</td>\n",
       "      <td>2767.022788</td>\n",
       "    </tr>\n",
       "    <tr>\n",
       "      <th>3</th>\n",
       "      <td>vowels4.wav</td>\n",
       "      <td>899.606390</td>\n",
       "      <td>1487.147618</td>\n",
       "      <td>2256.217774</td>\n",
       "    </tr>\n",
       "    <tr>\n",
       "      <th>4</th>\n",
       "      <td>vowels5.wav</td>\n",
       "      <td>712.226222</td>\n",
       "      <td>1114.328494</td>\n",
       "      <td>3041.588454</td>\n",
       "    </tr>\n",
       "  </tbody>\n",
       "</table>\n",
       "</div>"
      ],
      "text/plain": [
       "         vowel          F1           F2           F3\n",
       "0  vowels1.wav  350.801919  2392.458027  3176.248282\n",
       "1  vowels2.wav  414.043567  2326.744712  2789.926437\n",
       "2  vowels3.wav  695.099485  1947.917695  2767.022788\n",
       "3  vowels4.wav  899.606390  1487.147618  2256.217774\n",
       "4  vowels5.wav  712.226222  1114.328494  3041.588454"
      ]
     },
     "execution_count": 18,
     "metadata": {},
     "output_type": "execute_result"
    }
   ],
   "source": [
    "df = pd.read_csv(\"/Users/ethan/Desktop/formants.csv\")\n",
    "df.head()"
   ]
  },
  {
   "cell_type": "code",
   "execution_count": 14,
   "metadata": {},
   "outputs": [
    {
     "data": {
      "image/png": "[encoded data removed]",
      "text/plain": [
       "<Figure size 432x288 with 1 Axes>"
      ]
     },
     "metadata": {
      "needs_background": "light"
     },
     "output_type": "display_data"
    }
   ],
   "source": [
    "ax = sns.scatterplot(data=df, x=df['F2'], y=df['F1'])\n",
    "ax.invert_yaxis()\n",
    "ax.invert_xaxis()"
   ]
  },
  {
   "attachments": {},
   "cell_type": "markdown",
   "metadata": {},
   "source": [
    "vowelplot function below taken from: https://lingmethodshub.github.io/content/python/vowel-plotting-py/index.html"
   ]
  },
  {
   "cell_type": "code",
   "execution_count": 3,
   "metadata": {},
   "outputs": [],
   "source": [
    "import matplotlib.pyplot as plt\n",
    "import pandas as pd\n",
    "from pandas import DataFrame\n",
    "import seaborn as sns\n",
    "import matplotlib.ticker as ticker\n",
    "from matplotlib.ticker import ScalarFormatter\n",
    "\n",
    "def vowelplot (vowelcsv, color=None, F1=\"F1\", F2=\"F2\", vowel=\"Vowel\", title=\"Vowel Plot\", unit=\"Hz\", logscale=True):\n",
    "  \n",
    "    #Set some parameters for the chart itself\n",
    "    sns.set(style='ticks', context='notebook')\n",
    "    plt.figure(figsize=(6,6))\n",
    "    \n",
    "    # If there's an argument for color, determine whether it's likely to be categorical\n",
    "    ## If it's a string (text), use a categorical color palette\n",
    "    ## If it's a number, use a sequential color palette\n",
    "    if color != None:\n",
    "        if type(vowelcsv[color].iloc[0])==str:\n",
    "            pal = \"husl\"\n",
    "        else:\n",
    "            pal = \"viridis\"\n",
    "            \n",
    "        pl = sns.scatterplot(x = F2,\n",
    "                             y = F1,\n",
    "                             hue = color,\n",
    "                             data = vowelcsv,\n",
    "                             palette = pal)\n",
    "        \n",
    "    # If no color argument is given, don't specify hue, and no palette needed\n",
    "    else:\n",
    "        pl = sns.scatterplot(x = F2,\n",
    "                             y = F1,\n",
    "                             data = vowelcsv)\n",
    "    \n",
    "    \n",
    "    #Invert axes to correlate with articulatory space!\n",
    "    pl.invert_yaxis()\n",
    "    pl.invert_xaxis()\n",
    "    \n",
    "    #Add unit to the axis labels\n",
    "    F1name = str(\"F1 (\"+unit+\")\")\n",
    "    F2name = str(\"F2 (\"+unit+\")\")\n",
    "    laby = plt.ylabel(F1name)\n",
    "    labx = plt.xlabel(F2name)\n",
    "\n",
    "    if logscale == True:\n",
    "        pl.loglog()\n",
    "        pl.yaxis.set_major_formatter(ticker.ScalarFormatter())\n",
    "        pl.yaxis.set_minor_formatter(ticker.ScalarFormatter())\n",
    "        pl.xaxis.set_major_formatter(ticker.ScalarFormatter())\n",
    "        pl.xaxis.set_minor_formatter(ticker.ScalarFormatter())\n",
    "    \n",
    "    # Add vowel labels\n",
    "    \n",
    "    if vowel != None: \n",
    "        for line,row in vowelcsv.iterrows():\n",
    "            pl.text(vowelcsv[F2][line]+0.1,\n",
    "                    vowelcsv[F1][line],\n",
    "                    vowelcsv[vowel][line],\n",
    "                    horizontalalignment = 'left',\n",
    "                    size = 14, # Edit for larger plots!\n",
    "                    color = 'black',\n",
    "                   # weight = 'semibold' # Uncomment for larger plots!\n",
    "                   )\n",
    "    \n",
    "    pl.set_title(title)\n",
    "    pl.spines['top'].set_visible(False)\n",
    "    pl.spines['right'].set_visible(False)\n",
    "    plt.show()\n",
    "    \n",
    "    return pl"
   ]
  },
  {
   "cell_type": "code",
   "execution_count": 4,
   "metadata": {},
   "outputs": [
    {
     "data": {
      "image/png": "[encoded data removed]",
      "text/plain": [
       "<Figure size 432x432 with 1 Axes>"
      ]
     },
     "metadata": {},
     "output_type": "display_data"
    }
   ],
   "source": [
    "df = pd.read_csv('/Users/ethan/Desktop/formants.csv')\n",
    "ax = vowelplot(df)\n"
   ]
  }
 ],
 "metadata": {
  "kernelspec": {
   "display_name": "Python 3",
   "language": "python",
   "name": "python3"
  },
  "language_info": {
   "codemirror_mode": {
    "name": "ipython",
    "version": 3
   },
   "file_extension": ".py",
   "mimetype": "text/x-python",
   "name": "python",
   "nbconvert_exporter": "python",
   "pygments_lexer": "ipython3",
   "version": "3.9.12"
  },
  "orig_nbformat": 4,
  "vscode": {
   "interpreter": {
    "hash": "949777d72b0d2535278d3dc13498b2535136f6dfe0678499012e853ee9abcab1"
   }
  }
 },
 "nbformat": 4,
 "nbformat_minor": 2
}
