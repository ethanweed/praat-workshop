{
 "cells": [
  {
   "attachments": {},
   "cell_type": "markdown",
   "metadata": {},
   "source": [
    "# Plot vowels\n",
    "\n",
    "Let's use Python to plot our extracted formant vowels and inspect our vowels spaces.\n",
    "We'll start with a very simple figure, where we simply plot the raw F1 and F2 frequencies for the cardinal vowels.\n",
    "Things to notice:\n",
    "1. We need to import libraries\n",
    "2. We use `pandas` to import and structure our data\n",
    "3. We use `seaborn` to make plotting easier\n",
    "4. We use `matplotlib.pyplot` to make adjustments to our figure\n",
    "5. We rename libraries with abreviations"
   ]
  },
  {
   "cell_type": "code",
   "execution_count": null,
   "metadata": {},
   "outputs": [],
   "source": [
    "# import data structuring and plotting libraries\n",
    "import pandas as pd\n",
    "import seaborn as sns\n",
    "import matplotlib.pyplot as plt"
   ]
  },
  {
   "cell_type": "code",
   "execution_count": null,
   "metadata": {},
   "outputs": [],
   "source": [
    "# read our csv file into a dataframe\n",
    "df = pd.read_csv(\"/Users/ethan/Documents/GitHub/praat-workshop/data/cardinal_vowels/formants.csv\")\n",
    "\n",
    "# inspect the first 5 lines\n",
    "df.head()"
   ]
  },
  {
   "cell_type": "code",
   "execution_count": null,
   "metadata": {},
   "outputs": [],
   "source": [
    "ax = sns.scatterplot(data=df, x=df['F2'], y=df['F1'])\n",
    "ax.invert_yaxis()\n",
    "ax.invert_xaxis()"
   ]
  },
  {
   "attachments": {},
   "cell_type": "markdown",
   "metadata": {},
   "source": [
    "## Fancier vowel plots using helper functions\n",
    "\n",
    "The vowelplot, barkify, and Lobify functions below were written by [Emily Remirez](https://sites.google.com/berkeley.edu/eremirez/) and copied from: [Linguistics Methods Hub: Vowel plotting in Python](https://lingmethodshub.github.io/content/python/vowel-plotting-py/index.html).\n",
    "\n",
    "Using Emily's functions, we can quickly and easily make professional-looking vowel plots for comparing speakers, dialects, or languages.\n"
   ]
  },
  {
   "cell_type": "code",
   "execution_count": null,
   "metadata": {},
   "outputs": [],
   "source": [
    "# vowelplot function\n",
    "# written by Emily Remirez\n",
    "# small modification to remove left and right spines and change point size by Ethan Weed\n",
    "\n",
    "import matplotlib.pyplot as plt\n",
    "import pandas as pd\n",
    "from pandas import DataFrame\n",
    "import seaborn as sns\n",
    "import matplotlib.ticker as ticker\n",
    "from matplotlib.ticker import ScalarFormatter\n",
    "\n",
    "def vowelplot (vowelcsv, color=None, F1=\"F1\", F2=\"F2\", vowel=\"Vowel\", title=\"Vowel Plot\", unit=\"Hz\", logscale=True):\n",
    "  \n",
    "    #Set some parameters for the chart itself\n",
    "    sns.set(style='ticks', context='notebook')\n",
    "    plt.figure(figsize=(6,6))\n",
    "    \n",
    "    # If there's an argument for color, determine whether it's likely to be categorical\n",
    "    ## If it's a string (text), use a categorical color palette\n",
    "    ## If it's a number, use a sequential color palette\n",
    "    if color != None:\n",
    "        if type(vowelcsv[color].iloc[0])==str:\n",
    "            pal = \"husl\"\n",
    "        else:\n",
    "            pal = \"viridis\"\n",
    "            \n",
    "        pl = sns.scatterplot(x = F2,\n",
    "                             y = F1,\n",
    "                             hue = color,\n",
    "                             data = vowelcsv,\n",
    "                             palette = pal,\n",
    "                             s = 200)\n",
    "        \n",
    "    # If no color argument is given, don't specify hue, and no palette needed\n",
    "    else:\n",
    "        pl = sns.scatterplot(x = F2,\n",
    "                             y = F1,\n",
    "                             data = vowelcsv)\n",
    "    \n",
    "    \n",
    "    #Invert axes to correlate with articulatory space!\n",
    "    pl.invert_yaxis()\n",
    "    pl.invert_xaxis()\n",
    "    \n",
    "    #Add unit to the axis labels\n",
    "    F1name = str(\"F1 (\"+unit+\")\")\n",
    "    F2name = str(\"F2 (\"+unit+\")\")\n",
    "    laby = plt.ylabel(F1name)\n",
    "    labx = plt.xlabel(F2name)\n",
    "\n",
    "    if logscale == True:\n",
    "        pl.loglog()\n",
    "        pl.yaxis.set_major_formatter(ticker.ScalarFormatter())\n",
    "        pl.yaxis.set_minor_formatter(ticker.ScalarFormatter())\n",
    "        pl.xaxis.set_major_formatter(ticker.ScalarFormatter())\n",
    "        pl.xaxis.set_minor_formatter(ticker.ScalarFormatter())\n",
    "    \n",
    "    # Add vowel labels\n",
    "    \n",
    "    if vowel != None: \n",
    "        for line,row in vowelcsv.iterrows():\n",
    "            pl.text(vowelcsv[F2][line]+0.1,\n",
    "                    vowelcsv[F1][line],\n",
    "                    vowelcsv[vowel][line],\n",
    "                    horizontalalignment = 'left',\n",
    "                    size = 14, # Edit for larger plots!\n",
    "                    color = 'black',\n",
    "                   # weight = 'semibold' # Uncomment for larger plots!\n",
    "                   )\n",
    "    \n",
    "    pl.set_title(title)\n",
    "    pl.spines['top'].set_visible(False)\n",
    "    pl.spines['right'].set_visible(False)\n",
    "    plt.show()\n",
    "    \n",
    "    return pl"
   ]
  },
  {
   "cell_type": "code",
   "execution_count": null,
   "metadata": {},
   "outputs": [],
   "source": [
    "# function to convert formants from Hz to bark units\n",
    "# a bark scale is a better approximation of our nonliear pyschoacoustic perception of the physical sound frequencies\n",
    "\n",
    "def barkify (data, formants):\n",
    "    # For each formant listed, make a copy of the column prefixed with z\n",
    "    for formant in formants:\n",
    "        for ch in formant:\n",
    "            if ch.isnumeric():\n",
    "                num = ch\n",
    "        formantchar = (formant.split(num)[0])\n",
    "        name = str(formant).replace(formantchar,'z')\n",
    "        # Convert each value from Hz to Bark\n",
    "        data[name] = 26.81/ (1+ 1960/data[formant]) - 0.53\n",
    "    # Return the dataframe with the changes\n",
    "    return data"
   ]
  },
  {
   "cell_type": "code",
   "execution_count": null,
   "metadata": {},
   "outputs": [],
   "source": [
    "# a function to normalize formants based on each speaker's vowel space, using the Lobanov method.\n",
    "# for details and descriptions, including pros and cons for each method, as well as an online tool for using the different algorithms, see http://lingtools.uoregon.edu/norm/norm1_methods.php\n",
    "\n",
    "def Lobify (data, group, formants):\n",
    "    zscore = lambda x: (x - x.mean()) / x.std()\n",
    "    for formant in formants:\n",
    "        name = str(\"zsc_\" + formant)\n",
    "        col = data.groupby([group])[formant].transform(zscore)\n",
    "        data.insert(len(data.columns), name, col)\n",
    "    return data \n"
   ]
  },
  {
   "attachments": {},
   "cell_type": "markdown",
   "metadata": {},
   "source": [
    "## Plotting vowel spaces\n",
    "\n",
    "Let's compare different speakers producing the vowels in English words 'heed', 'hid', 'head', 'had', 'hod', 'hawed', 'hood', and 'who'd'.\n",
    "\n",
    "<img src=\"http://www.phonetics.ucla.edu/course/chapter8/images/Image6.gif\" width=\"\"/>\n",
    "\n",
    "image credit: www.phonetics.ucla.edu"
   ]
  },
  {
   "attachments": {},
   "cell_type": "markdown",
   "metadata": {},
   "source": [
    "Load the data into a `pandas` dataframe"
   ]
  },
  {
   "cell_type": "code",
   "execution_count": 23,
   "metadata": {},
   "outputs": [
    {
     "data": {
      "text/html": [
       "<div>\n",
       "<style scoped>\n",
       "    .dataframe tbody tr th:only-of-type {\n",
       "        vertical-align: middle;\n",
       "    }\n",
       "\n",
       "    .dataframe tbody tr th {\n",
       "        vertical-align: top;\n",
       "    }\n",
       "\n",
       "    .dataframe thead th {\n",
       "        text-align: right;\n",
       "    }\n",
       "</style>\n",
       "<table border=\"1\" class=\"dataframe\">\n",
       "  <thead>\n",
       "    <tr style=\"text-align: right;\">\n",
       "      <th></th>\n",
       "      <th>Language</th>\n",
       "      <th>Vowel</th>\n",
       "      <th>F1</th>\n",
       "      <th>F2</th>\n",
       "      <th>F3</th>\n",
       "      <th>Speaker</th>\n",
       "    </tr>\n",
       "  </thead>\n",
       "  <tbody>\n",
       "    <tr>\n",
       "      <th>0</th>\n",
       "      <td>BrEng</td>\n",
       "      <td>1</td>\n",
       "      <td>258.615520</td>\n",
       "      <td>2202.613599</td>\n",
       "      <td>3362.927236</td>\n",
       "      <td>1</td>\n",
       "    </tr>\n",
       "    <tr>\n",
       "      <th>1</th>\n",
       "      <td>BrEng</td>\n",
       "      <td>2</td>\n",
       "      <td>355.617499</td>\n",
       "      <td>2082.039600</td>\n",
       "      <td>2949.967830</td>\n",
       "      <td>1</td>\n",
       "    </tr>\n",
       "    <tr>\n",
       "      <th>2</th>\n",
       "      <td>BrEng</td>\n",
       "      <td>3</td>\n",
       "      <td>489.886958</td>\n",
       "      <td>1912.026845</td>\n",
       "      <td>2698.226652</td>\n",
       "      <td>1</td>\n",
       "    </tr>\n",
       "    <tr>\n",
       "      <th>3</th>\n",
       "      <td>BrEng</td>\n",
       "      <td>4</td>\n",
       "      <td>626.668089</td>\n",
       "      <td>1764.347484</td>\n",
       "      <td>2438.087258</td>\n",
       "      <td>1</td>\n",
       "    </tr>\n",
       "    <tr>\n",
       "      <th>4</th>\n",
       "      <td>BrEng</td>\n",
       "      <td>5</td>\n",
       "      <td>564.694510</td>\n",
       "      <td>843.948944</td>\n",
       "      <td>2522.263304</td>\n",
       "      <td>1</td>\n",
       "    </tr>\n",
       "  </tbody>\n",
       "</table>\n",
       "</div>"
      ],
      "text/plain": [
       "  Language Vowel          F1           F2           F3  Speaker\n",
       "0    BrEng     1  258.615520  2202.613599  3362.927236        1\n",
       "1    BrEng     2  355.617499  2082.039600  2949.967830        1\n",
       "2    BrEng     3  489.886958  1912.026845  2698.226652        1\n",
       "3    BrEng     4  626.668089  1764.347484  2438.087258        1\n",
       "4    BrEng     5  564.694510   843.948944  2522.263304        1"
      ]
     },
     "execution_count": 23,
     "metadata": {},
     "output_type": "execute_result"
    }
   ],
   "source": [
    "# load the data into a dataframe\n",
    "#df = pd.read_csv('/Users/ethan/Desktop/Aussies.csv')\n",
    "df = pd.read_csv('/Users/ethan/Documents/GitHub/praat-workshop/data/formants_English-speakers.csv')\n",
    "\n",
    "# in our data, the vowel names have \".wav\" file extension at the end, so this code removes those\n",
    "# not really necessary in this case, but just to show how to do it, in case this might be useful in the future\n",
    "df\n",
    "\n",
    "vowelname = []\n",
    "for i in list(df['Vowel']):\n",
    "    nv = i[0:-4]\n",
    "    vowelname.append(nv)\n",
    "df['Vowel'] = vowelname\n",
    "\n",
    "df.head()"
   ]
  },
  {
   "cell_type": "code",
   "execution_count": 24,
   "metadata": {},
   "outputs": [
    {
     "data": {
      "text/html": [
       "<div>\n",
       "<style scoped>\n",
       "    .dataframe tbody tr th:only-of-type {\n",
       "        vertical-align: middle;\n",
       "    }\n",
       "\n",
       "    .dataframe tbody tr th {\n",
       "        vertical-align: top;\n",
       "    }\n",
       "\n",
       "    .dataframe thead th {\n",
       "        text-align: right;\n",
       "    }\n",
       "</style>\n",
       "<table border=\"1\" class=\"dataframe\">\n",
       "  <thead>\n",
       "    <tr style=\"text-align: right;\">\n",
       "      <th></th>\n",
       "      <th>Language</th>\n",
       "      <th>Vowel</th>\n",
       "      <th>F1</th>\n",
       "      <th>F2</th>\n",
       "      <th>F3</th>\n",
       "      <th>Speaker</th>\n",
       "    </tr>\n",
       "  </thead>\n",
       "  <tbody>\n",
       "    <tr>\n",
       "      <th>0</th>\n",
       "      <td>BrEng</td>\n",
       "      <td>heed</td>\n",
       "      <td>258.615520</td>\n",
       "      <td>2202.613599</td>\n",
       "      <td>3362.927236</td>\n",
       "      <td>1</td>\n",
       "    </tr>\n",
       "    <tr>\n",
       "      <th>1</th>\n",
       "      <td>BrEng</td>\n",
       "      <td>hid</td>\n",
       "      <td>355.617499</td>\n",
       "      <td>2082.039600</td>\n",
       "      <td>2949.967830</td>\n",
       "      <td>1</td>\n",
       "    </tr>\n",
       "    <tr>\n",
       "      <th>2</th>\n",
       "      <td>BrEng</td>\n",
       "      <td>head</td>\n",
       "      <td>489.886958</td>\n",
       "      <td>1912.026845</td>\n",
       "      <td>2698.226652</td>\n",
       "      <td>1</td>\n",
       "    </tr>\n",
       "    <tr>\n",
       "      <th>3</th>\n",
       "      <td>BrEng</td>\n",
       "      <td>had</td>\n",
       "      <td>626.668089</td>\n",
       "      <td>1764.347484</td>\n",
       "      <td>2438.087258</td>\n",
       "      <td>1</td>\n",
       "    </tr>\n",
       "    <tr>\n",
       "      <th>4</th>\n",
       "      <td>BrEng</td>\n",
       "      <td>hod</td>\n",
       "      <td>564.694510</td>\n",
       "      <td>843.948944</td>\n",
       "      <td>2522.263304</td>\n",
       "      <td>1</td>\n",
       "    </tr>\n",
       "  </tbody>\n",
       "</table>\n",
       "</div>"
      ],
      "text/plain": [
       "  Language Vowel          F1           F2           F3  Speaker\n",
       "0    BrEng  heed  258.615520  2202.613599  3362.927236        1\n",
       "1    BrEng   hid  355.617499  2082.039600  2949.967830        1\n",
       "2    BrEng  head  489.886958  1912.026845  2698.226652        1\n",
       "3    BrEng   had  626.668089  1764.347484  2438.087258        1\n",
       "4    BrEng   hod  564.694510   843.948944  2522.263304        1"
      ]
     },
     "execution_count": 24,
     "metadata": {},
     "output_type": "execute_result"
    }
   ],
   "source": [
    "# add labels for vowels\n",
    "# here I am using the actual words that were spoken\n",
    "\n",
    "# list of the words, in the order that matches the data\n",
    "labels = ['heed', 'hid', 'head', 'had', 'hod', 'hawed', 'hood', 'whod']\n",
    "#labels = ['i', 'I', 'ɛ', 'æ', 'ɑ', 'ɔ', 'ʊ', 'u']\n",
    "\n",
    "# overwrites the labels in the \"Vowel\" column by multiplying the list by the largest number in the Speaker column\n",
    "df['Vowel'] = labels * max(df['Speaker'])\n",
    "df.head()"
   ]
  },
  {
   "cell_type": "code",
   "execution_count": null,
   "metadata": {},
   "outputs": [],
   "source": [
    "vowelplot(df, color = 'Language')"
   ]
  },
  {
   "cell_type": "code",
   "execution_count": null,
   "metadata": {},
   "outputs": [],
   "source": [
    "# convert to bark scale\n",
    "barkify(df, [\"F1\",\"F2\"])"
   ]
  },
  {
   "cell_type": "code",
   "execution_count": null,
   "metadata": {},
   "outputs": [],
   "source": [
    "vowelplot(df,\n",
    "          F1 = \"z1\",\n",
    "          F2 = \"z2\",\n",
    "          color = \"Language\",\n",
    "          unit = \"Bark\",\n",
    "          logscale = False)"
   ]
  },
  {
   "cell_type": "code",
   "execution_count": null,
   "metadata": {},
   "outputs": [],
   "source": [
    "# normalize using Lovanov method\n",
    "Lobify(df, \n",
    "       group = \"Speaker\",\n",
    "       formants = [\"F1\",\"F2\"]\n",
    "      )"
   ]
  },
  {
   "cell_type": "code",
   "execution_count": null,
   "metadata": {},
   "outputs": [],
   "source": [
    "vowelplot(df,\n",
    "          F1 = \"zsc_F1\",\n",
    "          F2 = \"zsc_F2\",\n",
    "          color = \"Language\",\n",
    "          unit = \"Lobanov normalized from Bark\",\n",
    "          logscale = False)"
   ]
  },
  {
   "cell_type": "code",
   "execution_count": null,
   "metadata": {},
   "outputs": [],
   "source": [
    "df_means = df.groupby(['Language', 'Vowel'])['zsc_F1', 'zsc_F2'].mean()\n",
    "df_means = df_means.reset_index()\n",
    "df_means"
   ]
  },
  {
   "cell_type": "code",
   "execution_count": null,
   "metadata": {},
   "outputs": [],
   "source": [
    "df_means = df.groupby(['Language', 'Vowel'])['zsc_F1', 'zsc_F2'].mean()\n",
    "df_means = df_means.reset_index()\n",
    "df_means"
   ]
  },
  {
   "cell_type": "code",
   "execution_count": null,
   "metadata": {},
   "outputs": [],
   "source": [
    "vowelplot(df_means,\n",
    "          F1 = \"zsc_F1\",\n",
    "          F2 = \"zsc_F2\",\n",
    "          color = \"Language\",\n",
    "          unit = \"Lobanov normalized from Bark\",\n",
    "          logscale = False)"
   ]
  },
  {
   "cell_type": "code",
   "execution_count": 25,
   "metadata": {},
   "outputs": [
    {
     "name": "stderr",
     "output_type": "stream",
     "text": [
      "<ipython-input-4-36fccc49e4fb>:13: SettingWithCopyWarning: \n",
      "A value is trying to be set on a copy of a slice from a DataFrame.\n",
      "Try using .loc[row_indexer,col_indexer] = value instead\n",
      "\n",
      "See the caveats in the documentation: https://pandas.pydata.org/pandas-docs/stable/user_guide/indexing.html#returning-a-view-versus-a-copy\n",
      "  data[name] = 26.81/ (1+ 1960/data[formant]) - 0.53\n",
      "<ipython-input-4-36fccc49e4fb>:13: SettingWithCopyWarning: \n",
      "A value is trying to be set on a copy of a slice from a DataFrame.\n",
      "Try using .loc[row_indexer,col_indexer] = value instead\n",
      "\n",
      "See the caveats in the documentation: https://pandas.pydata.org/pandas-docs/stable/user_guide/indexing.html#returning-a-view-versus-a-copy\n",
      "  data[name] = 26.81/ (1+ 1960/data[formant]) - 0.53\n"
     ]
    },
    {
     "data": {
      "image/png": "[encoded data removed]",
      "text/plain": [
       "<Figure size 432x432 with 1 Axes>"
      ]
     },
     "metadata": {},
     "output_type": "display_data"
    },
    {
     "data": {
      "text/plain": [
       "<AxesSubplot:title={'center':'Vowel Plot'}, xlabel='F2 (Lobanov normalized from Bark)', ylabel='F1 (Lobanov normalized from Bark)'>"
      ]
     },
     "execution_count": 25,
     "metadata": {},
     "output_type": "execute_result"
    }
   ],
   "source": [
    "df_NZ = df[df['Language'] == 'NzEng']\n",
    "barkify(df_NZ, [\"F1\",\"F2\"])\n",
    "Lobify(df_NZ, \n",
    "       group = \"Speaker\",\n",
    "       formants = [\"F1\",\"F2\"]\n",
    "      )\n",
    "\n",
    "vowelplot(df_NZ,\n",
    "          F1 = \"zsc_F1\",\n",
    "          F2 = \"zsc_F2\",\n",
    "          color = \"Speaker\",\n",
    "          unit = \"Lobanov normalized from Bark\",\n",
    "          logscale = False)"
   ]
  },
  {
   "cell_type": "code",
   "execution_count": null,
   "metadata": {},
   "outputs": [],
   "source": []
  }
 ],
 "metadata": {
  "kernelspec": {
   "display_name": "Python 3",
   "language": "python",
   "name": "python3"
  },
  "language_info": {
   "codemirror_mode": {
    "name": "ipython",
    "version": 3
   },
   "file_extension": ".py",
   "mimetype": "text/x-python",
   "name": "python",
   "nbconvert_exporter": "python",
   "pygments_lexer": "ipython3",
   "version": "3.9.12"
  },
  "orig_nbformat": 4,
  "vscode": {
   "interpreter": {
    "hash": "949777d72b0d2535278d3dc13498b2535136f6dfe0678499012e853ee9abcab1"
   }
  }
 },
 "nbformat": 4,
 "nbformat_minor": 2
}
