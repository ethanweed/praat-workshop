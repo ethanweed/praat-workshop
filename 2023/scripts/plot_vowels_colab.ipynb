{
 "cells": [
  {
   "attachments": {},
   "cell_type": "markdown",
   "metadata": {},
   "source": [
    "# Plot vowels\n",
    "\n",
    "Let's use Python to plot our extracted formant vowels and inspect our vowels spaces.\n",
    "We'll start with a very simple figure, where we simply plot the raw F1 and F2 frequencies for the cardinal vowels.\n",
    "Things to notice:\n",
    "1. We need to import libraries\n",
    "2. We use `pandas` to import and structure our data\n",
    "3. We use `seaborn` to make plotting easier\n",
    "4. We use `matplotlib.pyplot` to make adjustments to our figure\n",
    "5. We rename libraries with abreviations"
   ]
  },
  {
   "cell_type": "code",
   "execution_count": null,
   "metadata": {},
   "outputs": [],
   "source": [
    "# import data structuring and plotting libraries\n",
    "import pandas as pd\n",
    "import seaborn as sns\n",
    "import matplotlib.pyplot as plt"
   ]
  },
  {
   "cell_type": "code",
   "execution_count": null,
   "metadata": {},
   "outputs": [],
   "source": [
    "# read our csv file into a dataframe\n",
    "df = pd.read_csv(\"/Users/ethan/Documents/GitHub/praat-workshop/data/cardinal_vowels/formants.csv\")\n",
    "\n",
    "# inspect the first 5 lines\n",
    "df.head()"
   ]
  },
  {
   "cell_type": "code",
   "execution_count": null,
   "metadata": {},
   "outputs": [],
   "source": [
    "ax = sns.scatterplot(data=df, x=df['F2'], y=df['F1'])\n",
    "ax.invert_yaxis()\n",
    "ax.invert_xaxis()"
   ]
  }
 ],
 "metadata": {
  "kernelspec": {
   "display_name": "Python 3",
   "language": "python",
   "name": "python3"
  },
  "language_info": {
   "codemirror_mode": {
    "name": "ipython",
    "version": 3
   },
   "file_extension": ".py",
   "mimetype": "text/x-python",
   "name": "python",
   "nbconvert_exporter": "python",
   "pygments_lexer": "ipython3",
   "version": "3.9.12"
  },
  "orig_nbformat": 4,
  "vscode": {
   "interpreter": {
    "hash": "949777d72b0d2535278d3dc13498b2535136f6dfe0678499012e853ee9abcab1"
   }
  }
 },
 "nbformat": 4,
 "nbformat_minor": 2
}
