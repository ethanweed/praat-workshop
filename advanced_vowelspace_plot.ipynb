{
  "cells": [
    {
      "cell_type": "markdown",
      "metadata": {
        "id": "view-in-github",
        "colab_type": "text"
      },
      "source": [
        "<a href=\"https://colab.research.google.com/github/ethanweed/praat-workshop/blob/main/advanced_vowelspace_plot.ipynb\" target=\"_parent\"><img src=\"https://colab.research.google.com/assets/colab-badge.svg\" alt=\"Open In Colab\"/></a>"
      ]
    },
    {
      "cell_type": "markdown",
      "metadata": {
        "id": "60TJNWzPBW2-"
      },
      "source": [
        "## Plotting vowel spaces\n",
        "\n",
        "\n",
        "<img src=\"https://upload.wikimedia.org/wikipedia/commons/8/87/Vowel_triange%2C_cardinal_vowels.png\" width=\"400\"/>\n",
        "\n",
        "image credit: Kwamikagami (wikipedia.org)\n",
        "\n",
        "\n",
        "Let's compare different speakers producing the vowels in English words 'heed', 'hid', 'head', 'had', 'hod', 'hawed', 'hood', and 'who'd'.\n",
        "\n",
        "<img src=\"https://kagi.com/proxy/images?c=_m3km2RjA3G0qleowsZXHZb9NEn0fSsEYIHbKzMDyAFb4nUPIanknmQV_g0rmdCIbMWuvyo7994ui97cT-3EedvKHC3hiNCl3h5OMx-XVM9HyXvCWU_IGx_mPDPr1dfEaGFA-mOvqORHh0X-9LrKmg%3D%3D\" width=\"400\"/>\n",
        "\n",
        "image credit: www.phonetics.ucla.edu\n",
        "\n",
        "<img src=\"https://kagi.com/proxy/tongue.png?c=VyuR3YRKUClPhyOoIdS04TqljqgBzrKDxski68jlhLPReVad1H0Zm0Kgd4UwEzxC-foBCJc2-1ghyNdX1b6XRg%3D%3D\" width=\"400\"/>\n",
        "\n",
        "image credit: Wilfred Bates\n",
        "\n"
      ]
    },
    {
      "cell_type": "markdown",
      "metadata": {
        "id": "7_OQrz4sBW23"
      },
      "source": [
        "# Plot vowels\n",
        "\n",
        "Let's use Python to plot our extracted formant vowels and inspect our vowels spaces.\n",
        "We'll start with a very simple figure, where we simply plot the raw F1 and F2 frequencies for the cardinal vowels.\n",
        "Things to notice:\n",
        "1. We need to import libraries\n",
        "2. We use `pandas` to import and structure our data\n",
        "3. We use `seaborn` to make plotting easier\n",
        "4. We use `matplotlib.pyplot` to make adjustments to our figure\n",
        "5. We rename libraries with abreviations"
      ]
    },
    {
      "cell_type": "code",
      "execution_count": null,
      "metadata": {
        "id": "KxiwsvBNBW26"
      },
      "outputs": [],
      "source": [
        "# import data structuring and plotting libraries\n",
        "import pandas as pd\n",
        "import seaborn as sns\n",
        "import matplotlib.pyplot as plt\n",
        "\n",
        "# quiet warnings\n",
        "import warnings\n",
        "warnings.filterwarnings(\"ignore\")"
      ]
    },
    {
      "cell_type": "code",
      "execution_count": null,
      "metadata": {
        "id": "N9OrI2lhBW27"
      },
      "outputs": [],
      "source": [
        "# Read our txt file into a pandas dataframe\n",
        "#df = pd.read_csv('https://raw.githubusercontent.com/ethanweed/praat-workshop/refs/heads/main/2025/output/h_d_formants/combined_formants.txt', sep='\\t')\n",
        "df = pd.read_csv('https://raw.githubusercontent.com/ethanweed/praat-workshop/refs/heads/main/2025/output/cardinal_vowels_formants/combined_formants.txt', sep='\\t')\n",
        "\n",
        "# inspect the first 5 lines\n",
        "df"
      ]
    },
    {
      "cell_type": "code",
      "execution_count": null,
      "metadata": {
        "id": "PAPLeDOmBW28"
      },
      "outputs": [],
      "source": [
        "ax = sns.scatterplot(data=df, x=df['F2'], y=df['F1'])\n",
        "ax.invert_yaxis()\n",
        "ax.invert_xaxis()"
      ]
    },
    {
      "cell_type": "markdown",
      "metadata": {
        "id": "npdh0tybBW28"
      },
      "source": [
        "## Fancier vowel plots using helper functions\n",
        "\n",
        "The vowelplot, barkify, and Lobify functions below were written by [Emily Remirez](https://sites.google.com/berkeley.edu/eremirez/) and copied from: [Linguistics Methods Hub: Vowel plotting in Python](https://lingmethodshub.github.io/content/python/vowel-plotting-py/index.html).\n",
        "\n",
        "Using Emily's functions, we can quickly and easily make professional-looking vowel plots for comparing speakers, dialects, or languages.\n"
      ]
    },
    {
      "cell_type": "code",
      "execution_count": null,
      "metadata": {
        "id": "GzIz1_NpBW28"
      },
      "outputs": [],
      "source": [
        "# vowelplot function\n",
        "# written by Emily Remirez\n",
        "# small modification to remove left and right spines by Ethan Weed\n",
        "\n",
        "import matplotlib.pyplot as plt\n",
        "import pandas as pd\n",
        "from pandas import DataFrame\n",
        "import seaborn as sns\n",
        "import matplotlib.ticker as ticker\n",
        "from matplotlib.ticker import ScalarFormatter\n",
        "\n",
        "def vowelplot (vowelcsv, color=None, F1=\"F1\", F2=\"F2\", vowel=\"Vowel\", title=\"Vowel Plot\", unit=\"Hz\", logscale=True):\n",
        "\n",
        "    #Set some parameters for the chart itself\n",
        "    sns.set(style='ticks', context='notebook')\n",
        "    plt.figure(figsize=(6,6))\n",
        "\n",
        "    # If there's an argument for color, determine whether it's likely to be categorical\n",
        "    ## If it's a string (text), use a categorical color palette\n",
        "    ## If it's a number, use a sequential color palette\n",
        "    if color != None:\n",
        "        if type(vowelcsv[color].iloc[0])==str:\n",
        "            pal = \"husl\"\n",
        "            #pal = \"Dark2\"\n",
        "        else:\n",
        "            pal = \"viridis\"\n",
        "\n",
        "        pl = sns.scatterplot(x = F2,\n",
        "                             y = F1,\n",
        "                             hue = color,\n",
        "                             data = vowelcsv,\n",
        "                             palette = pal)\n",
        "\n",
        "    # If no color argument is given, don't specify hue, and no palette needed\n",
        "    else:\n",
        "        pl = sns.scatterplot(x = F2,\n",
        "                             y = F1,\n",
        "                             data = vowelcsv)\n",
        "\n",
        "\n",
        "    #Invert axes to correlate with articulatory space!\n",
        "    pl.invert_yaxis()\n",
        "    pl.invert_xaxis()\n",
        "\n",
        "    #Add unit to the axis labels\n",
        "    F1name = str(\"F1 (\"+unit+\")\")\n",
        "    F2name = str(\"F2 (\"+unit+\")\")\n",
        "    laby = plt.ylabel(F1name)\n",
        "    labx = plt.xlabel(F2name)\n",
        "\n",
        "    if logscale == True:\n",
        "        pl.loglog()\n",
        "        pl.yaxis.set_major_formatter(ticker.ScalarFormatter())\n",
        "        pl.yaxis.set_minor_formatter(ticker.ScalarFormatter())\n",
        "        pl.xaxis.set_major_formatter(ticker.ScalarFormatter())\n",
        "        pl.xaxis.set_minor_formatter(ticker.ScalarFormatter())\n",
        "\n",
        "    # Add vowel labels\n",
        "\n",
        "    if vowel != None:\n",
        "        for line,row in vowelcsv.iterrows():\n",
        "            pl.text(vowelcsv[F2][line]+0.1,\n",
        "                    vowelcsv[F1][line],\n",
        "                    vowelcsv[vowel][line],\n",
        "                    horizontalalignment = 'left',\n",
        "                    size = 14, # Edit for larger plots!\n",
        "                    color = 'black',\n",
        "                   # weight = 'semibold' # Uncomment for larger plots!\n",
        "                   )\n",
        "\n",
        "    pl.set_title(title)\n",
        "    pl.spines['top'].set_visible(False)\n",
        "    pl.spines['right'].set_visible(False)\n",
        "    plt.show()\n",
        "\n",
        "    return pl"
      ]
    },
    {
      "cell_type": "code",
      "execution_count": null,
      "metadata": {
        "id": "Xmk14i4OBW29"
      },
      "outputs": [],
      "source": [
        "# function to convert formants from Hz to bark units\n",
        "# a bark scale is a better approximation of our nonliear pyschoacoustic perception of the physical sound frequencies\n",
        "\n",
        "def barkify (data, formants):\n",
        "    # For each formant listed, make a copy of the column prefixed with z\n",
        "    for formant in formants:\n",
        "        for ch in formant:\n",
        "            if ch.isnumeric():\n",
        "                num = ch\n",
        "        formantchar = (formant.split(num)[0])\n",
        "        name = str(formant).replace(formantchar,'z')\n",
        "        # Convert each value from Hz to Bark\n",
        "        data[name] = 26.81/ (1+ 1960/data[formant]) - 0.53\n",
        "    # Return the dataframe with the changes\n",
        "    return data"
      ]
    },
    {
      "cell_type": "code",
      "execution_count": null,
      "metadata": {
        "id": "3YuLzRdCBW29"
      },
      "outputs": [],
      "source": [
        "# a function to normalize formants based on each speaker's vowel space, using the Lobanov method.\n",
        "# for details and descriptions, including pros and cons for each method, as well as an online tool for using the different algorithms, see http://lingtools.uoregon.edu/norm/norm1_methods.php\n",
        "\n",
        "def Lobify (data, group, formants):\n",
        "    zscore = lambda x: (x - x.mean()) / x.std()\n",
        "    for formant in formants:\n",
        "        name = str(\"zsc_\" + formant)\n",
        "        col = data.groupby([group])[formant].transform(zscore)\n",
        "        data.insert(len(data.columns), name, col)\n",
        "    return data\n"
      ]
    },
    {
      "cell_type": "markdown",
      "metadata": {
        "id": "TrKMpNMBBW2-"
      },
      "source": [
        "Load the data into a `pandas` dataframe"
      ]
    },
    {
      "cell_type": "code",
      "execution_count": null,
      "metadata": {
        "id": "zazzMqDeJox7"
      },
      "outputs": [],
      "source": [
        "# load the data into a dataframe\n",
        "df = pd.read_csv('https://raw.githubusercontent.com/ethanweed/praat-workshop/refs/heads/main/2025/output/h_d_formants/combined_formants.txt', sep='\\t')\n",
        "\n",
        "#labels = ['heed', 'hid', 'head', 'had', 'hod', 'hawed', 'hood', 'whod']\n",
        "labels = ['i', 'I', 'ɛ', 'æ', 'ɑ', 'ɔ', 'ʊ', 'u']\n",
        "\n",
        "# Make a new column called speaker with the string bewten \"h_d_\" and \"_formants\" in Source_File\n",
        "df['Speaker'] = df['Source_File'].str.extract(r'(h_d_)(.*)(_formants)')[1]\n",
        "\n",
        "label_dict = {\n",
        "    'Segment_1': 'i',\n",
        "    'Segment_2': 'I',\n",
        "    'Segment_3': 'ɛ',\n",
        "    'Segment_4': 'æ',\n",
        "    'Segment_5': 'ɑ',\n",
        "    'Segment_6': 'ɔ',\n",
        "    'Segment_7': 'ʊ',\n",
        "    'Segment_8': 'u'\n",
        "}\n",
        "\n",
        "# Make a column called vowel. Look up the key in the Label column and return the value from the label_dict\n",
        "df['Vowel'] = df['Label'].map(label_dict)\n",
        "\n",
        "# Make a new column called dialect with the string in speaker removing any numbers\n",
        "df['Dialect'] = df['Speaker'].str.extract(r'([a-zA-Z]+)')[0]\n",
        "\n",
        "df\n",
        ""
      ]
    },
    {
      "cell_type": "code",
      "execution_count": null,
      "metadata": {
        "id": "EBVPThtgBW2_"
      },
      "outputs": [],
      "source": [
        "vowelplot(df, color = 'Dialect')"
      ]
    },
    {
      "cell_type": "code",
      "execution_count": null,
      "metadata": {
        "id": "Q1SVRZxuBW3A"
      },
      "outputs": [],
      "source": [
        "barkify(df, [\"F1\",\"F2\"])"
      ]
    },
    {
      "cell_type": "code",
      "execution_count": null,
      "metadata": {
        "id": "usKIi1TmBW3A"
      },
      "outputs": [],
      "source": [
        "vowelplot(df,\n",
        "          F1 = \"z1\",\n",
        "          F2 = \"z2\",\n",
        "          color = \"Dialect\",\n",
        "          unit = \"Bark\",\n",
        "          logscale = False)"
      ]
    },
    {
      "cell_type": "code",
      "execution_count": null,
      "metadata": {
        "id": "q8J3tuZcBW3A"
      },
      "outputs": [],
      "source": [
        "Lobify(df,\n",
        "       group = \"Speaker\",\n",
        "       formants = [\"F1\",\"F2\"]\n",
        "      )"
      ]
    },
    {
      "cell_type": "code",
      "execution_count": null,
      "metadata": {
        "id": "FXhlg9fCBW3A"
      },
      "outputs": [],
      "source": [
        "vowelplot(df,\n",
        "          F1 = \"zsc_F1\",\n",
        "          F2 = \"zsc_F2\",\n",
        "          color = \"Dialect\",\n",
        "          unit = \"Lobanov normalized from Bark\",\n",
        "          logscale = False)\n"
      ]
    },
    {
      "cell_type": "code",
      "execution_count": null,
      "metadata": {
        "id": "xR6BinH_BW3B"
      },
      "outputs": [],
      "source": []
    }
  ],
  "metadata": {
    "colab": {
      "provenance": [],
      "include_colab_link": true
    },
    "kernelspec": {
      "display_name": "p",
      "language": "python",
      "name": "python3"
    },
    "language_info": {
      "codemirror_mode": {
        "name": "ipython",
        "version": 3
      },
      "file_extension": ".py",
      "mimetype": "text/x-python",
      "name": "python",
      "nbconvert_exporter": "python",
      "pygments_lexer": "ipython3",
      "version": "3.11.3"
    },
    "orig_nbformat": 4
  },
  "nbformat": 4,
  "nbformat_minor": 0
}